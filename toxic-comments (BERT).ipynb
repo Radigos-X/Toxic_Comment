{
 "cells": [
  {
   "cell_type": "code",
   "execution_count": 1,
   "id": "cf9a35ef",
   "metadata": {
    "_cell_guid": "b1076dfc-b9ad-4769-8c92-a6c4dae69d19",
    "_uuid": "8f2839f25d086af736a60e9eeb907d3b93b6e0e5",
    "execution": {
     "iopub.execute_input": "2025-06-07T16:40:18.897483Z",
     "iopub.status.busy": "2025-06-07T16:40:18.897174Z",
     "iopub.status.idle": "2025-06-07T16:40:20.686417Z",
     "shell.execute_reply": "2025-06-07T16:40:20.685618Z"
    },
    "papermill": {
     "duration": 1.795066,
     "end_time": "2025-06-07T16:40:20.687985",
     "exception": false,
     "start_time": "2025-06-07T16:40:18.892919",
     "status": "completed"
    },
    "tags": []
   },
   "outputs": [
    {
     "name": "stdout",
     "output_type": "stream",
     "text": [
      "/kaggle/input/yp-toxic-comments/toxic_comments.csv\n"
     ]
    }
   ],
   "source": [
    "# This Python 3 environment comes with many helpful analytics libraries installed\n",
    "# It is defined by the kaggle/python Docker image: https://github.com/kaggle/docker-python\n",
    "# For example, here's several helpful packages to load\n",
    "\n",
    "import numpy as np # linear algebra\n",
    "import pandas as pd # data processing, CSV file I/O (e.g. pd.read_csv)\n",
    "\n",
    "# Input data files are available in the read-only \"../input/\" directory\n",
    "# For example, running this (by clicking run or pressing Shift+Enter) will list all files under the input directory\n",
    "\n",
    "import os\n",
    "for dirname, _, filenames in os.walk('/kaggle/input'):\n",
    "    for filename in filenames:\n",
    "        print(os.path.join(dirname, filename))\n",
    "\n",
    "# You can write up to 20GB to the current directory (/kaggle/working/) that gets preserved as output when you create a version using \"Save & Run All\" \n",
    "# You can also write temporary files to /kaggle/temp/, but they won't be saved outside of the current session"
   ]
  },
  {
   "cell_type": "code",
   "execution_count": 2,
   "id": "ebe88b9c",
   "metadata": {
    "execution": {
     "iopub.execute_input": "2025-06-07T16:40:20.694176Z",
     "iopub.status.busy": "2025-06-07T16:40:20.693770Z",
     "iopub.status.idle": "2025-06-07T16:40:30.118672Z",
     "shell.execute_reply": "2025-06-07T16:40:30.117411Z"
    },
    "papermill": {
     "duration": 9.429353,
     "end_time": "2025-06-07T16:40:30.120104",
     "exception": true,
     "start_time": "2025-06-07T16:40:20.690751",
     "status": "failed"
    },
    "tags": []
   },
   "outputs": [
    {
     "ename": "ModuleNotFoundError",
     "evalue": "No module named 'torch_xla'",
     "output_type": "error",
     "traceback": [
      "\u001b[0;31m---------------------------------------------------------------------------\u001b[0m",
      "\u001b[0;31mModuleNotFoundError\u001b[0m                       Traceback (most recent call last)",
      "\u001b[0;32m/tmp/ipykernel_13/3226091444.py\u001b[0m in \u001b[0;36m<cell line: 0>\u001b[0;34m()\u001b[0m\n\u001b[1;32m      3\u001b[0m \u001b[0;32mfrom\u001b[0m \u001b[0mtransformers\u001b[0m \u001b[0;32mimport\u001b[0m \u001b[0mAutoTokenizer\u001b[0m\u001b[0;34m,\u001b[0m \u001b[0mAutoModelForSequenceClassification\u001b[0m\u001b[0;34m\u001b[0m\u001b[0;34m\u001b[0m\u001b[0m\n\u001b[1;32m      4\u001b[0m \u001b[0;32mimport\u001b[0m \u001b[0mtorch\u001b[0m\u001b[0;34m\u001b[0m\u001b[0;34m\u001b[0m\u001b[0m\n\u001b[0;32m----> 5\u001b[0;31m \u001b[0;32mimport\u001b[0m \u001b[0mtorch_xla\u001b[0m\u001b[0;34m.\u001b[0m\u001b[0mcore\u001b[0m\u001b[0;34m.\u001b[0m\u001b[0mxla_model\u001b[0m \u001b[0;32mas\u001b[0m \u001b[0mxm\u001b[0m\u001b[0;34m\u001b[0m\u001b[0;34m\u001b[0m\u001b[0m\n\u001b[0m\u001b[1;32m      6\u001b[0m \u001b[0;32mfrom\u001b[0m \u001b[0mtorch\u001b[0m\u001b[0;34m.\u001b[0m\u001b[0mutils\u001b[0m\u001b[0;34m.\u001b[0m\u001b[0mdata\u001b[0m \u001b[0;32mimport\u001b[0m \u001b[0mDataLoader\u001b[0m\u001b[0;34m,\u001b[0m \u001b[0mTensorDataset\u001b[0m\u001b[0;34m\u001b[0m\u001b[0;34m\u001b[0m\u001b[0m\n\u001b[1;32m      7\u001b[0m \u001b[0;32mfrom\u001b[0m \u001b[0msklearn\u001b[0m\u001b[0;34m.\u001b[0m\u001b[0mmetrics\u001b[0m \u001b[0;32mimport\u001b[0m \u001b[0mf1_score\u001b[0m\u001b[0;34m\u001b[0m\u001b[0;34m\u001b[0m\u001b[0m\n",
      "\u001b[0;31mModuleNotFoundError\u001b[0m: No module named 'torch_xla'"
     ]
    }
   ],
   "source": [
    "import pandas as pd\n",
    "from sklearn.model_selection import train_test_split\n",
    "from transformers import AutoTokenizer, AutoModelForSequenceClassification\n",
    "import torch\n",
    "import torch_xla.core.xla_model as xm\n",
    "from torch.utils.data import DataLoader, TensorDataset\n",
    "from sklearn.metrics import f1_score\n",
    "from tqdm import tqdm"
   ]
  },
  {
   "cell_type": "markdown",
   "id": "542bd109",
   "metadata": {
    "papermill": {
     "duration": null,
     "end_time": null,
     "exception": null,
     "start_time": null,
     "status": "pending"
    },
    "tags": []
   },
   "source": [
    "# Загрузка и предобработка данных"
   ]
  },
  {
   "cell_type": "code",
   "execution_count": null,
   "id": "640ce509",
   "metadata": {
    "execution": {
     "iopub.execute_input": "2025-05-10T19:38:24.681527Z",
     "iopub.status.busy": "2025-05-10T19:38:24.681097Z",
     "iopub.status.idle": "2025-05-10T19:38:26.530085Z",
     "shell.execute_reply": "2025-05-10T19:38:26.525122Z",
     "shell.execute_reply.started": "2025-05-10T19:38:24.681499Z"
    },
    "papermill": {
     "duration": null,
     "end_time": null,
     "exception": null,
     "start_time": null,
     "status": "pending"
    },
    "tags": []
   },
   "outputs": [],
   "source": [
    "# Загрузка датасета\n",
    "data = pd.read_csv(\"/kaggle/input/yp-toxic-comments/toxic_comments.csv\", index_col=0)\n",
    "\n",
    "data.info()\n",
    "data.head()\n",
    "print(\"Проверка на пропуски:\\n\", data.isnull().sum())"
   ]
  },
  {
   "cell_type": "code",
   "execution_count": null,
   "id": "d5f2d85c",
   "metadata": {
    "execution": {
     "iopub.execute_input": "2025-05-10T19:38:26.532336Z",
     "iopub.status.busy": "2025-05-10T19:38:26.532066Z",
     "iopub.status.idle": "2025-05-10T19:38:26.543650Z",
     "shell.execute_reply": "2025-05-10T19:38:26.539726Z",
     "shell.execute_reply.started": "2025-05-10T19:38:26.532312Z"
    },
    "papermill": {
     "duration": null,
     "end_time": null,
     "exception": null,
     "start_time": null,
     "status": "pending"
    },
    "tags": []
   },
   "outputs": [],
   "source": [
    "print(data['toxic'].value_counts(normalize=True))"
   ]
  },
  {
   "cell_type": "code",
   "execution_count": null,
   "id": "855c388f",
   "metadata": {
    "execution": {
     "iopub.execute_input": "2025-05-10T19:38:26.547178Z",
     "iopub.status.busy": "2025-05-10T19:38:26.546947Z",
     "iopub.status.idle": "2025-05-10T19:38:26.633495Z",
     "shell.execute_reply": "2025-05-10T19:38:26.626990Z",
     "shell.execute_reply.started": "2025-05-10T19:38:26.547156Z"
    },
    "papermill": {
     "duration": null,
     "end_time": null,
     "exception": null,
     "start_time": null,
     "status": "pending"
    },
    "tags": []
   },
   "outputs": [],
   "source": [
    "# Разделение данных на обучающий и тестовый наборы (80% train, 20% test)\n",
    "train_data, test_data = train_test_split(\n",
    "    data,\n",
    "    test_size=0.2,\n",
    "    random_state=42,\n",
    "    stratify=data['toxic']  # Сохранение пропорций классов\n",
    ")"
   ]
  },
  {
   "cell_type": "code",
   "execution_count": null,
   "id": "4c6f6be4",
   "metadata": {
    "execution": {
     "iopub.execute_input": "2025-05-10T19:38:26.634776Z",
     "iopub.status.busy": "2025-05-10T19:38:26.634501Z",
     "iopub.status.idle": "2025-05-10T19:39:45.362760Z",
     "shell.execute_reply": "2025-05-10T19:39:45.357102Z",
     "shell.execute_reply.started": "2025-05-10T19:38:26.634752Z"
    },
    "papermill": {
     "duration": null,
     "end_time": null,
     "exception": null,
     "start_time": null,
     "status": "pending"
    },
    "tags": []
   },
   "outputs": [],
   "source": [
    "# Токенизация текста\n",
    "tokenizer = AutoTokenizer.from_pretrained(\"unitary/toxic-bert\")\n",
    "\n",
    "def tokenize_data(data):\n",
    "    return tokenizer(\n",
    "        list(data['text']),\n",
    "        padding=True,\n",
    "        truncation=True,\n",
    "        max_length=512,\n",
    "        return_tensors='pt'\n",
    "    )\n",
    "\n",
    "train_encodings = tokenize_data(train_data)\n",
    "test_encodings = tokenize_data(test_data)"
   ]
  },
  {
   "cell_type": "code",
   "execution_count": null,
   "id": "0ff15e39",
   "metadata": {
    "execution": {
     "iopub.execute_input": "2025-05-10T19:39:45.364884Z",
     "iopub.status.busy": "2025-05-10T19:39:45.364615Z",
     "iopub.status.idle": "2025-05-10T19:43:19.425745Z",
     "shell.execute_reply": "2025-05-10T19:43:19.419735Z",
     "shell.execute_reply.started": "2025-05-10T19:39:45.364846Z"
    },
    "papermill": {
     "duration": null,
     "end_time": null,
     "exception": null,
     "start_time": null,
     "status": "pending"
    },
    "tags": []
   },
   "outputs": [],
   "source": [
    "# Создание датасетов\n",
    "def create_dataset(encodings, labels):\n",
    "    input_ids = encodings['input_ids']\n",
    "    attention_mask = encodings['attention_mask']\n",
    "    labels = torch.tensor(labels.values)\n",
    "    return TensorDataset(input_ids, attention_mask, labels)\n",
    "\n",
    "train_dataset = create_dataset(train_encodings, train_data['toxic'])\n",
    "test_dataset = create_dataset(test_encodings, test_data['toxic'])\n",
    "\n",
    "# Создание DataLoaders\n",
    "batch_size = 16\n",
    "train_loader = DataLoader(train_dataset, batch_size=batch_size, shuffle=False)\n",
    "test_loader = DataLoader(test_dataset, batch_size=batch_size)\n",
    "\n",
    "# Загрузка модели на TPU\n",
    "device = xm.xla_device()\n",
    "model = AutoModelForSequenceClassification.from_pretrained(\"unitary/toxic-bert\")\n",
    "model.to(device)\n",
    "\n",
    "# Оценка модели\n",
    "def evaluate(model, loader):\n",
    "    model.eval()\n",
    "    all_preds = []\n",
    "    all_labels = []\n",
    "    with torch.no_grad():\n",
    "        for batch in tqdm(loader, desc=\"Оценка\"):\n",
    "            input_ids, attention_mask, labels = [x.to(device) for x in batch]\n",
    "            outputs = model(input_ids, attention_mask=attention_mask)\n",
    "            preds = torch.argmax(outputs.logits, dim=1)\n",
    "            all_preds.extend(preds.cpu().numpy())\n",
    "            all_labels.extend(labels.cpu().numpy())\n",
    "    return f1_score(all_labels, all_preds, average='weighted')\n",
    "\n",
    "f1_test = evaluate(model, test_loader)\n",
    "print(f'F1 на тестовом наборе: {f1_test:.4f}')"
   ]
  },
  {
   "cell_type": "code",
   "execution_count": null,
   "id": "30808394",
   "metadata": {
    "papermill": {
     "duration": null,
     "end_time": null,
     "exception": null,
     "start_time": null,
     "status": "pending"
    },
    "tags": []
   },
   "outputs": [],
   "source": []
  }
 ],
 "metadata": {
  "kaggle": {
   "accelerator": "none",
   "dataSources": [
    {
     "datasetId": 7361336,
     "sourceId": 11727061,
     "sourceType": "datasetVersion"
    }
   ],
   "dockerImageVersionId": 31012,
   "isGpuEnabled": false,
   "isInternetEnabled": true,
   "language": "python",
   "sourceType": "notebook"
  },
  "kernelspec": {
   "display_name": "Python 3",
   "language": "python",
   "name": "python3"
  },
  "language_info": {
   "codemirror_mode": {
    "name": "ipython",
    "version": 3
   },
   "file_extension": ".py",
   "mimetype": "text/x-python",
   "name": "python",
   "nbconvert_exporter": "python",
   "pygments_lexer": "ipython3",
   "version": "3.11.11"
  },
  "papermill": {
   "default_parameters": {},
   "duration": 18.462435,
   "end_time": "2025-06-07T16:40:32.526149",
   "environment_variables": {},
   "exception": true,
   "input_path": "__notebook__.ipynb",
   "output_path": "__notebook__.ipynb",
   "parameters": {},
   "start_time": "2025-06-07T16:40:14.063714",
   "version": "2.6.0"
  }
 },
 "nbformat": 4,
 "nbformat_minor": 5
}
